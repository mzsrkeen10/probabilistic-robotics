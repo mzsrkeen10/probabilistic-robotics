{
 "cells": [
  {
   "cell_type": "code",
   "execution_count": 5,
   "id": "fe78113f-ee7e-47ab-8710-0c880e727b12",
   "metadata": {},
   "outputs": [],
   "source": [
    "import copy\n",
    "import random\n",
    "import sys\n",
    "\n",
    "from scipy.stats import multivariate_normal\n",
    "import numpy as np\n",
    "sys.path.append(\"../scripts/\")\n",
    "from robot import *"
   ]
  },
  {
   "cell_type": "code",
   "execution_count": 2,
   "id": "f3070aa6-404f-4f8a-8ba1-e4e10f60ec3d",
   "metadata": {},
   "outputs": [],
   "source": [
    "class Particle:\n",
    "    def __init__(self, init_pose, weight):\n",
    "        self.pose = init_pose\n",
    "        self.weight = weight\n",
    "\n",
    "    def motion_update(self, nu, omega, time, noise_rate_pdf):\n",
    "        ns = noise_rate_pdf.rvs()\n",
    "        noised_nu = nu + ns[0] * math.sqrt(abs(nu)/time) + ns[1] * math.sqrt(abs(omega)/time)\n",
    "        noised_omega = omega + ns[2] * math.sqrt(abs(nu)/time) + ns[3] * math.sqrt(abs(omega)/time)\n",
    "        self.pose = IdealRobot.state_transition(noised_nu, noised_omega, time, self.pose)\n",
    "\n",
    "    def observation_update(self, observation, envmap, distance_dev_rate, direction_dev):\n",
    "        for d in observation:\n",
    "            obs_pos = d[0]\n",
    "            obs_id = d[1]\n",
    "\n",
    "            pos_on_map = envmap.landmarks[obs_id].pos\n",
    "            particle_suggest_pos = IdealCamera.observation_function(self.pose, pos_on_map)\n",
    "\n",
    "            distance_dev = distance_dev_rate * particle_suggest_pos[0]\n",
    "            cov = np.diag(np.array([distance_dev**2, direction_dev**2]))\n",
    "            self.weight *= multivariate_normal(mean=particle_suggest_pos, cov=cov).pdf(obs_pos)"
   ]
  },
  {
   "cell_type": "code",
   "execution_count": 13,
   "id": "3c94c2ad-1c13-4667-8be2-87d4b9d06305",
   "metadata": {},
   "outputs": [],
   "source": [
    "class MCL:\n",
    "    def __init__(\n",
    "        self,\n",
    "        envmap,\n",
    "        init_pose,\n",
    "        num,\n",
    "        motion_noise_stds={\"nn\": 0.19, \"no\": 0.001, \"on\": 0.13, \"oo\": 0.2},\n",
    "        distance_dev_rate=0.14,\n",
    "        direction_dev=0.05,\n",
    "    ):\n",
    "        self.particles = [Particle(init_pose, 1.0/num) for _ in range(num)]\n",
    "        self.map = envmap\n",
    "        self.distance_dev_rate = distance_dev_rate\n",
    "        self.direction_dev = direction_dev\n",
    "\n",
    "        v = motion_noise_stds\n",
    "        c = np.diag([v[\"nn\"]**2, v[\"no\"]**2, v[\"on\"]**2, v[\"oo\"]**2])\n",
    "        self.motion_noise_rate_pdf = multivariate_normal(cov=c)\n",
    "\n",
    "        self.ml = self.particles[0]\n",
    "        self.pose = self.ml.pose\n",
    "\n",
    "    def set_ml(self):\n",
    "        i = np.argmax([p.weight for p in self.particles])\n",
    "        self.ml = self.particles[i]\n",
    "        self.pose = self.ml.pose\n",
    "\n",
    "    def motion_update(self, nu, omega, time):\n",
    "        for p in self.particles:\n",
    "            p.motion_update(nu, omega, time, self.motion_noise_rate_pdf)\n",
    "\n",
    "    def observation_update(self, observation):\n",
    "        for p in self.particles:\n",
    "            p.observation_update(observation, self.map, self.distance_dev_rate, self.direction_dev)\n",
    "        self.set_ml()\n",
    "        self.resampling()\n",
    "\n",
    "    def resampling(self):\n",
    "        # ws = [e.weight for e in self.particles]\n",
    "        # if sum(ws) < 1e-100:\n",
    "        #     ws = [e + 1e-100 for e in ws]\n",
    "        # ps = random.choices(self.particles, weights=ws, k=len(self.particles))\n",
    "        ws = np.cumsum([e.weight for e in self.particles])\n",
    "        if ws[-1] < 1e-100:\n",
    "            ws += 1e-100\n",
    "\n",
    "        step = ws[-1] / len(self.particles)\n",
    "        r = np.random.uniform(0.0, step)\n",
    "        cur_pos = 0\n",
    "        ps = []\n",
    "\n",
    "        while len(ps) < len(self.particles):\n",
    "            if r < ws[cur_pos]:\n",
    "                ps.append(self.particles[cur_pos])\n",
    "                r += step\n",
    "            else:\n",
    "                cur_pos += 1\n",
    "        \n",
    "        self.particles = [copy.deepcopy(e) for e in ps]\n",
    "        for p in self.particles:\n",
    "            p.weight = 1.0 / len(self.particles)\n",
    "\n",
    "    def draw(self, ax, elems):\n",
    "        xs = [p.pose[0] for p in self.particles]\n",
    "        ys = [p.pose[1] for p in self.particles]\n",
    "        vxs = [math.cos(p.pose[2]) * p.weight * len(self.particles) for p in self.particles]\n",
    "        vys = [math.sin(p.pose[2]) * p.weight * len(self.particles) for p in self.particles]\n",
    "        elems.append(ax.quiver(xs, ys, vxs, vys, angles=\"xy\", scale_units=\"xy\", scale=1.5, color=\"blue\", alpha=0.5))"
   ]
  },
  {
   "cell_type": "code",
   "execution_count": 16,
   "id": "0fd67b18-4896-4256-bbe3-2078255a92f1",
   "metadata": {},
   "outputs": [],
   "source": [
    "class EstimationAgent(Agent):\n",
    "    def __init__(self, nu, omega, estimator, time_interval):\n",
    "        super().__init__(nu, omega)\n",
    "        self.estimator = estimator\n",
    "        self.time_interval = time_interval\n",
    "\n",
    "        self.prev_nu = 0.0\n",
    "        self.prev_omega = 0.0\n",
    "\n",
    "    def decision(self, observation=None):\n",
    "        self.estimator.motion_update(self.prev_nu, self.prev_omega, self.time_interval)\n",
    "        self.prev_nu, self.prev_omega = self.nu, self.omega\n",
    "        self.estimator.observation_update(observation)\n",
    "        return self.nu, self.omega\n",
    "\n",
    "    def draw(self, ax, elems):\n",
    "        self.estimator.draw(ax, elems)\n",
    "        x, y, t = self.estimator.pose\n",
    "        s = f\"({x:.2f}, {y:.2f}, {int(t*180/math.pi)%360})\"\n",
    "        elems.append(ax.text(x, y+0.1, s, fontsize=8))"
   ]
  },
  {
   "cell_type": "code",
   "execution_count": 5,
   "id": "07cf5546-8bb8-493b-a4ab-7ed174f5c601",
   "metadata": {},
   "outputs": [
    {
     "ename": "TypeError",
     "evalue": "MCL.__init__() missing 1 required positional argument: 'motion_noise_stds'",
     "output_type": "error",
     "traceback": [
      "\u001b[0;31m---------------------------------------------------------------------------\u001b[0m",
      "\u001b[0;31mTypeError\u001b[0m                                 Traceback (most recent call last)",
      "Cell \u001b[0;32mIn[5], line 9\u001b[0m\n\u001b[1;32m      6\u001b[0m world\u001b[38;5;241m.\u001b[39mappend(m)\n\u001b[1;32m      8\u001b[0m initial_pose \u001b[38;5;241m=\u001b[39m np\u001b[38;5;241m.\u001b[39marray([\u001b[38;5;241m2\u001b[39m, \u001b[38;5;241m2\u001b[39m, math\u001b[38;5;241m.\u001b[39mpi\u001b[38;5;241m/\u001b[39m\u001b[38;5;241m6\u001b[39m])\u001b[38;5;241m.\u001b[39mT\n\u001b[0;32m----> 9\u001b[0m estimator \u001b[38;5;241m=\u001b[39m \u001b[43mMCL\u001b[49m\u001b[43m(\u001b[49m\u001b[43minitial_pose\u001b[49m\u001b[43m,\u001b[49m\u001b[43m \u001b[49m\u001b[38;5;241;43m100\u001b[39;49m\u001b[43m)\u001b[49m\n\u001b[1;32m     10\u001b[0m circling \u001b[38;5;241m=\u001b[39m EstimationAgent(\u001b[38;5;241m0.2\u001b[39m, \u001b[38;5;241m10.0\u001b[39m\u001b[38;5;241m/\u001b[39m\u001b[38;5;241m180\u001b[39m\u001b[38;5;241m*\u001b[39mmath\u001b[38;5;241m.\u001b[39mpi, estimator)\n\u001b[1;32m     11\u001b[0m r \u001b[38;5;241m=\u001b[39m Robot(initial_pose, sensor\u001b[38;5;241m=\u001b[39mCamera(m), agent\u001b[38;5;241m=\u001b[39mcircling)\n",
      "\u001b[0;31mTypeError\u001b[0m: MCL.__init__() missing 1 required positional argument: 'motion_noise_stds'"
     ]
    }
   ],
   "source": [
    "# world = World(30, 0.1, debug=False)\n",
    "\n",
    "# m = Map()\n",
    "# for ln in [(-4, 2), (2, -3), (3, 3)]:\n",
    "#     m.append_landmark(Landmark(*ln))\n",
    "# world.append(m)\n",
    "\n",
    "# initial_pose = np.array([2, 2, math.pi/6]).T\n",
    "# estimator = MCL(initial_pose, 100)\n",
    "# circling = EstimationAgent(0.2, 10.0/180*math.pi, estimator)\n",
    "# r = Robot(initial_pose, sensor=Camera(m), agent=circling)\n",
    "# world.append(r)\n",
    "\n",
    "# world.draw()"
   ]
  },
  {
   "cell_type": "code",
   "execution_count": null,
   "id": "a662e336-f8ba-413c-bf7f-f776fd658456",
   "metadata": {},
   "outputs": [],
   "source": [
    "# initial_pose = np.array([0, 0, 0]).T\n",
    "# estimator = MCL(initial_pose, 100, motion_noise_stds={\"nn\": 0.01, \"no\": 0.02, \"on\": 0.03, \"oo\": 0.04})\n",
    "# a = EstimationAgent(0.2, 10.0/180*math.pi, estimator, 0.1)\n",
    "# estimator.motion_update(0.2, 10.0/180*math.pi, 0.1)\n",
    "# for p in estimator.particles:\n",
    "#     print(p.pose)"
   ]
  },
  {
   "cell_type": "code",
   "execution_count": 9,
   "id": "70791aad-a4d3-4961-8ec0-97dcae46fc76",
   "metadata": {},
   "outputs": [],
   "source": [
    "def trial():\n",
    "    time_interval = 0.1\n",
    "    world = World(30, time_interval, debug=False)\n",
    "\n",
    "    m = Map()\n",
    "    for ln in [(-4, 2), (2, -3), (3, 3)]:\n",
    "        m.append_landmark(Landmark(*ln))\n",
    "    world.append(m)\n",
    "    \n",
    "    initial_pose = np.array([0, 0, 0]).T\n",
    "    estimator = MCL(m, initial_pose, 100) #, motion_noise_stds)\n",
    "    circling = EstimationAgent(0.2, 10.0/180*math.pi, estimator, time_interval)\n",
    "    r = Robot(initial_pose, sensor=Camera(m), agent=circling, color=\"red\")\n",
    "    world.append(r)\n",
    "\n",
    "    world.draw()"
   ]
  },
  {
   "cell_type": "code",
   "execution_count": 19,
   "id": "5a5807ca-0ca2-4fb4-9b18-9aca9990c2cd",
   "metadata": {},
   "outputs": [
    {
     "data": {
      "application/vnd.jupyter.widget-view+json": {
       "model_id": "623257bb988147e5b87b3a8f07cbf812",
       "version_major": 2,
       "version_minor": 0
      },
      "image/png": "[encoded data removed]",
      "text/html": [
       "\n",
       "            <div style=\"display: inline-block;\">\n",
       "                <div class=\"jupyter-widgets widget-label\" style=\"text-align: center;\">\n",
       "                    Figure\n",
       "                </div>\n",
       "                <img src='data:image/png;base64,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' width=800.0/>\n",
       "            </div>\n",
       "        "
      ],
      "text/plain": [
       "Canvas(toolbar=Toolbar(toolitems=[('Home', 'Reset original view', 'home', 'home'), ('Back', 'Back to previous …"
      ]
     },
     "metadata": {},
     "output_type": "display_data"
    }
   ],
   "source": [
    "# trial({\"nn\": 0.19, \"no\": 0.001, \"on\": 0.13, \"oo\": 0.2})\n",
    "# trial()"
   ]
  },
  {
   "cell_type": "code",
   "execution_count": null,
   "id": "895cb490-8dfb-4c8f-bbfb-4a2183ba6aa8",
   "metadata": {},
   "outputs": [],
   "source": []
  }
 ],
 "metadata": {
  "kernelspec": {
   "display_name": "Python 3 (ipykernel)",
   "language": "python",
   "name": "python3"
  },
  "language_info": {
   "codemirror_mode": {
    "name": "ipython",
    "version": 3
   },
   "file_extension": ".py",
   "mimetype": "text/x-python",
   "name": "python",
   "nbconvert_exporter": "python",
   "pygments_lexer": "ipython3",
   "version": "3.12.3"
  }
 },
 "nbformat": 4,
 "nbformat_minor": 5
}
