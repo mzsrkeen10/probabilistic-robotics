{
 "cells": [
  {
   "cell_type": "code",
   "execution_count": 1,
   "id": "4154a38e-d538-4d41-aeee-2287f189cf04",
   "metadata": {},
   "outputs": [],
   "source": [
    "import random"
   ]
  },
  {
   "cell_type": "code",
   "execution_count": 2,
   "id": "27c47ca0-b426-4a56-ae0d-1d4352a8d7c5",
   "metadata": {},
   "outputs": [
    {
     "data": {
      "text/plain": [
       "3.4987"
      ]
     },
     "execution_count": 2,
     "metadata": {},
     "output_type": "execute_result"
    }
   ],
   "source": [
    "samples = [random.choice([1, 2, 3, 4, 5, 6]) for _ in range(10000)]\n",
    "sum(samples) / len(samples)"
   ]
  },
  {
   "cell_type": "code",
   "execution_count": null,
   "id": "8b117b58-280a-45e8-9241-941214dcc0b8",
   "metadata": {},
   "outputs": [],
   "source": []
  }
 ],
 "metadata": {
  "kernelspec": {
   "display_name": "Python 3 (ipykernel)",
   "language": "python",
   "name": "python3"
  },
  "language_info": {
   "codemirror_mode": {
    "name": "ipython",
    "version": 3
   },
   "file_extension": ".py",
   "mimetype": "text/x-python",
   "name": "python",
   "nbconvert_exporter": "python",
   "pygments_lexer": "ipython3",
   "version": "3.11.8"
  }
 },
 "nbformat": 4,
 "nbformat_minor": 5
}
