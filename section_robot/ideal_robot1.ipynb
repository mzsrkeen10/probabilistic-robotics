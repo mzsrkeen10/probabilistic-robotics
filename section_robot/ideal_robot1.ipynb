{
 "cells": [
  {
   "cell_type": "code",
   "execution_count": 1,
   "id": "86a036f7-8b23-47db-a031-96d7e5da5aa1",
   "metadata": {},
   "outputs": [],
   "source": [
    "import math\n",
    "import matplotlib\n",
    "matplotlib.use(\"nbagg\")\n",
    "import matplotlib.animation as anm\n",
    "import matplotlib.pyplot as plt\n",
    "import matplotlib.patches as patches\n",
    "import numpy as np\n",
    "%matplotlib widget"
   ]
  },
  {
   "cell_type": "code",
   "execution_count": 29,
   "id": "948d09ba-2382-454a-afda-6f8f69676324",
   "metadata": {},
   "outputs": [],
   "source": [
    "class World:\n",
    "    def __init__(self, time_span, time_interval, debug=False):\n",
    "        self.objects = []\n",
    "        self.debug = debug\n",
    "        self.time_span = time_span\n",
    "        self.time_interval = time_interval\n",
    "\n",
    "    def append(self, obj):\n",
    "        self.objects.append(obj)\n",
    "\n",
    "    def draw(self):\n",
    "        fig = plt.figure(figsize=(8, 8))\n",
    "        ax = fig.add_subplot(111)\n",
    "        ax.set_aspect(\"equal\")\n",
    "        ax.set_xlim(-5, 5)\n",
    "        ax.set_ylim(-5, 5)\n",
    "        ax.set_xlabel(\"X\", fontsize=20)\n",
    "        ax.set_ylabel(\"Y\", fontsize=20)\n",
    "\n",
    "        elems = []\n",
    "\n",
    "        if self.debug:\n",
    "            for i in range(int(self.time_span/self.time_interval)):\n",
    "                self.one_step(i, elems, ax)\n",
    "        else:\n",
    "            self.ani = anm.FuncAnimation(\n",
    "                fig,\n",
    "                self.one_step,\n",
    "                fargs=(elems, ax),\n",
    "                frames=int(self.time_span/self.time_interval)+1,\n",
    "                interval=int(self.time_interval*1000),\n",
    "                repeat=False\n",
    "            )\n",
    "            plt.show()\n",
    "\n",
    "    def one_step(self, i, elems, ax):\n",
    "        while elems:\n",
    "            elems.pop().remove()\n",
    "        time_str = f\"t = {self.time_interval*i:.2f}[s]\"\n",
    "        elems.append(ax.text(-4.4, 4.5, time_str,fontsize=10))\n",
    "        for obj in self.objects:\n",
    "            obj.draw(ax, elems)\n",
    "            if hasattr(obj, \"one_step\"):\n",
    "                obj.one_step(self.time_interval)"
   ]
  },
  {
   "cell_type": "code",
   "execution_count": 34,
   "id": "bddac6aa-06b5-4147-ab18-16f6b1fee433",
   "metadata": {},
   "outputs": [],
   "source": [
    "class IdealRobot:\n",
    "    def __init__(self, pose, agent=None, sensor=None, color=\"black\"):\n",
    "        self.pose = pose\n",
    "        self.r = 0.2\n",
    "        self.color = color\n",
    "        self.agent = agent\n",
    "        self.poses = [pose]\n",
    "        self.sensor = sensor\n",
    "\n",
    "    def draw(self, ax, elems):\n",
    "        x, y, theta = self.pose\n",
    "        xn = x + self.r * math.cos(theta)\n",
    "        yn = y + self.r * math.sin(theta)\n",
    "        elems += ax.plot([x, xn], [y,yn], color=self.color)\n",
    "        c = patches.Circle(xy=(x, y), radius=self.r, fill=False, color=self.color)\n",
    "        elems.append(ax.add_patch(c))\n",
    "\n",
    "        self.poses.append(self.pose)\n",
    "        elems += ax.plot([e[0] for e in self.poses], [e[1] for e in self.poses], linewidth=0.5, color=\"black\")\n",
    "\n",
    "        if self.sensor and len(self.poses) > 1:\n",
    "            self.sensor.draw(ax, elems, self.poses[-2])\n",
    "\n",
    "        if self.agent and hasattr(self.agent, \"draw\"):\n",
    "            self.agent.draw(ax, elems)\n",
    "\n",
    "    @classmethod\n",
    "    def state_transition(cls, nu, omega, time, pose):\n",
    "        t0 = pose[2]\n",
    "        if math.fabs(omega) < 1e-10:\n",
    "            return pose + np.array([\n",
    "                nu * math.cos(t0),\n",
    "                nu * math.sin(t0),\n",
    "                omega\n",
    "            ]) * time\n",
    "        else:\n",
    "            return pose + np.array([\n",
    "                nu / omega * (math.sin(t0 + omega * time) - math.sin(t0)),\n",
    "                nu / omega * (-math.cos(t0 + omega * time) + math.cos(t0)),\n",
    "                omega * time\n",
    "            ])\n",
    "\n",
    "    def one_step(self, time_interval):\n",
    "        if not self.agent:\n",
    "            return\n",
    "        obs = self.sensor.data(self.pose) if self.sensor else None\n",
    "        nu, omega = self.agent.decision(obs)\n",
    "        self.pose = self.state_transition(nu, omega, time_interval, self.pose)"
   ]
  },
  {
   "cell_type": "code",
   "execution_count": 4,
   "id": "119b5f1f-68c5-4519-9f42-1b806245cc0d",
   "metadata": {},
   "outputs": [],
   "source": [
    "class Agent:\n",
    "    def __init__(self, nu, omega):\n",
    "        self.nu = nu\n",
    "        self.omega = omega\n",
    "\n",
    "    def decision(self, observation=None):\n",
    "        return self.nu, self.omega"
   ]
  },
  {
   "cell_type": "code",
   "execution_count": 13,
   "id": "571120f5-36da-4c82-9d39-9a4a815fc728",
   "metadata": {},
   "outputs": [],
   "source": [
    "class Landmark:\n",
    "    def __init__(self, x, y):\n",
    "        self.pos = np.array([x, y]).T\n",
    "        self.id = None\n",
    "\n",
    "    def draw(self, ax, elems):\n",
    "        c = ax.scatter(self.pos[0], self.pos[1], s=100, marker=\"*\", label=\"landmarks\", color=\"orange\")\n",
    "        elems.append(c)\n",
    "        elems.append(ax.text(self.pos[0], self.pos[1], \"id:\" + str(self.id), fontsize=10))"
   ]
  },
  {
   "cell_type": "code",
   "execution_count": 14,
   "id": "0e211d56-a783-4ad3-b9d4-6bfc61ab808f",
   "metadata": {},
   "outputs": [],
   "source": [
    "class Map:\n",
    "    def __init__(self):\n",
    "        self.landmarks = []\n",
    "\n",
    "    def append_landmark(self, landmark):\n",
    "        landmark.id = len(self.landmarks)\n",
    "        self.landmarks.append(landmark)\n",
    "\n",
    "    def draw(self, ax, elems):\n",
    "        for lm in self.landmarks:\n",
    "            lm.draw(ax, elems)"
   ]
  },
  {
   "cell_type": "code",
   "execution_count": 32,
   "id": "7747418d-05de-4126-b639-bf5dd72b0404",
   "metadata": {},
   "outputs": [],
   "source": [
    "class IdealCamera:\n",
    "    def __init__(self, env_map, distance_range=(0.5, 6.0), direction_range=(-math.pi/3, math.pi/3)):\n",
    "        self.map = env_map\n",
    "        self.lastdata = []\n",
    "        self.distance_range = distance_range\n",
    "        self.direction_range = direction_range\n",
    "\n",
    "    def visible(self, polarpos):\n",
    "        if polarpos is None:\n",
    "            return False\n",
    "\n",
    "        return self.distance_range[0] <= polarpos[0] <= self.distance_range[1] and self.direction_range[0] <= polarpos[1] <= self.direction_range[1]\n",
    "    \n",
    "    def data(self, cam_pose):\n",
    "        observed = []\n",
    "        for lm in self.map.landmarks:\n",
    "            z = self.observation_function(cam_pose, lm.pos)\n",
    "            if self.visible(z):\n",
    "                observed.append((z, lm.id))\n",
    "        self.lastdata = observed\n",
    "        return observed\n",
    "\n",
    "    @classmethod\n",
    "    def observation_function(cls, cam_pose, obj_pos):\n",
    "        diff = obj_pos - cam_pose[0:2]\n",
    "        phi = math.atan2(diff[1], diff[0]) - cam_pose[2]\n",
    "        while phi >= np.pi:\n",
    "            phi -= 2*np.pi\n",
    "        while phi < -np.pi:\n",
    "            phi += 2*np.pi\n",
    "        return np.array([np.hypot(*diff), phi]).T\n",
    "\n",
    "    def draw(self, ax, elems, cam_pose):\n",
    "        for lm in self.lastdata:\n",
    "            x, y, theta = cam_pose\n",
    "            distance, direction = lm[0][0], lm[0][1]\n",
    "            lx = x + distance * math.cos(direction + theta)\n",
    "            ly = y + distance * math.sin(direction + theta)\n",
    "            elems += ax.plot([x, lx], [y, ly], color=\"pink\")"
   ]
  },
  {
   "cell_type": "code",
   "execution_count": 35,
   "id": "44e46771-a512-4ad3-a969-c5112d194e6c",
   "metadata": {},
   "outputs": [
    {
     "data": {
      "application/vnd.jupyter.widget-view+json": {
       "model_id": "0fae61f22fd147bb99ba81637ed8fd1a",
       "version_major": 2,
       "version_minor": 0
      },
      "image/png": "[encoded data removed]",
      "text/html": [
       "\n",
       "            <div style=\"display: inline-block;\">\n",
       "                <div class=\"jupyter-widgets widget-label\" style=\"text-align: center;\">\n",
       "                    Figure\n",
       "                </div>\n",
       "                <img src='data:image/png;base64,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' width=800.0/>\n",
       "            </div>\n",
       "        "
      ],
      "text/plain": [
       "Canvas(toolbar=Toolbar(toolitems=[('Home', 'Reset original view', 'home', 'home'), ('Back', 'Back to previous …"
      ]
     },
     "metadata": {},
     "output_type": "display_data"
    }
   ],
   "source": [
    "if __name__ == \"__main__\":\n",
    "    world = World(10, 1, debug=False)\n",
    "    \n",
    "    m = Map()\n",
    "    m.append_landmark(Landmark(2, -2))\n",
    "    m.append_landmark(Landmark(-1, -3))\n",
    "    m.append_landmark(Landmark(3, 3))\n",
    "    world.append(m)\n",
    "    \n",
    "    straight = Agent(0.2, 0.0)\n",
    "    circling = Agent(0.2, 10.0/180*math.pi)\n",
    "    \n",
    "    robot1 = IdealRobot(np.array([2, 3, math.pi/6]).T, sensor=IdealCamera(m), agent=straight)\n",
    "    robot2 = IdealRobot(np.array([-2, -1, math.pi/5*6]).T, sensor=IdealCamera(m), agent=circling, color=\"red\")\n",
    "    # robot3 = IdealRobot(np.array([0, 0, 0]).T, color=\"blue\")\n",
    "    \n",
    "    world.append(robot1)\n",
    "    world.append(robot2)\n",
    "    # world.append(robot3)\n",
    "    \n",
    "    world.draw()"
   ]
  },
  {
   "cell_type": "code",
   "execution_count": 7,
   "id": "fc921eab-a9fb-43f8-b610-100fcc603713",
   "metadata": {},
   "outputs": [
    {
     "data": {
      "text/plain": [
       "array([0.1, 0. , 0. ])"
      ]
     },
     "execution_count": 7,
     "metadata": {},
     "output_type": "execute_result"
    }
   ],
   "source": [
    "# IdealRobot.state_transition(0.1, 0.0, 1.0, np.array([0,0,0]).T)"
   ]
  },
  {
   "cell_type": "code",
   "execution_count": 8,
   "id": "9a6f89d4-059e-4d9b-8f28-ecd43551e63c",
   "metadata": {},
   "outputs": [
    {
     "data": {
      "text/plain": [
       "array([0.5729578 , 0.5729578 , 1.57079633])"
      ]
     },
     "execution_count": 8,
     "metadata": {},
     "output_type": "execute_result"
    }
   ],
   "source": [
    "# IdealRobot.state_transition(0.1, 10.0/180*math.pi, 9.0, np.array([0,0,0]).T)"
   ]
  },
  {
   "cell_type": "code",
   "execution_count": 9,
   "id": "58c95d46-5d8d-47a5-ac15-702ac4080d12",
   "metadata": {},
   "outputs": [
    {
     "data": {
      "text/plain": [
       "array([7.01670930e-17, 1.14591559e+00, 3.14159265e+00])"
      ]
     },
     "execution_count": 9,
     "metadata": {},
     "output_type": "execute_result"
    }
   ],
   "source": [
    "# IdealRobot.state_transition(0.1, 10.0/180*math.pi, 18.0, np.array([0,0,0]).T)"
   ]
  },
  {
   "cell_type": "code",
   "execution_count": 23,
   "id": "7f3012bb-7f9f-41e6-9a6e-9d978d40c180",
   "metadata": {},
   "outputs": [
    {
     "name": "stdout",
     "output_type": "stream",
     "text": [
      "[(array([3.91558602, 0.67024454]), 0), (array([0.79296286, 0.38597264]), 1), (array([7.65872005, 1.31356769]), 2)]\n"
     ]
    }
   ],
   "source": [
    "# cam = IdealCamera(m)\n",
    "# p = cam.data(robot2.pose)\n",
    "# print(p)"
   ]
  },
  {
   "cell_type": "code",
   "execution_count": null,
   "id": "688b4b44-f72b-4ef0-9d1d-d20ff65c421d",
   "metadata": {},
   "outputs": [],
   "source": []
  }
 ],
 "metadata": {
  "kernelspec": {
   "display_name": "Python 3 (ipykernel)",
   "language": "python",
   "name": "python3"
  },
  "language_info": {
   "codemirror_mode": {
    "name": "ipython",
    "version": 3
   },
   "file_extension": ".py",
   "mimetype": "text/x-python",
   "name": "python",
   "nbconvert_exporter": "python",
   "pygments_lexer": "ipython3",
   "version": "3.11.8"
  }
 },
 "nbformat": 4,
 "nbformat_minor": 5
}
